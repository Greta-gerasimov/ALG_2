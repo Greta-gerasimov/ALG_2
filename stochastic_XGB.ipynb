{
  "nbformat": 4,
  "nbformat_minor": 0,
  "metadata": {
    "colab": {
      "private_outputs": true,
      "provenance": [],
      "collapsed_sections": [],
      "authorship_tag": "ABX9TyN4WQYF5Wya/gFJLKF7SgNQ",
      "include_colab_link": true
    },
    "kernelspec": {
      "name": "python3",
      "display_name": "Python 3"
    },
    "language_info": {
      "name": "python"
    }
  },
  "cells": [
    {
      "cell_type": "markdown",
      "metadata": {
        "id": "view-in-github",
        "colab_type": "text"
      },
      "source": [
        "<a href=\"https://colab.research.google.com/github/Greta-gerasimov/ALG_2/blob/Lesson_6_GBoosting%2FSGB/stochastic_XGB.ipynb\" target=\"_parent\"><img src=\"https://colab.research.google.com/assets/colab-badge.svg\" alt=\"Open In Colab\"/></a>"
      ]
    },
    {
      "cell_type": "code",
      "source": [
        "from sklearn.datasets import load_breast_cancer\n",
        "from matplotlib.colors import ListedColormap\n",
        "import matplotlib.pyplot as plt\n",
        "import matplotlib\n",
        "\n",
        "from xgboost import XGBClassifier\n",
        "from sklearn.model_selection import GridSearchCV\n",
        "from sklearn.model_selection import StratifiedKFold\n",
        "from sklearn.preprocessing import LabelEncoder\n",
        "import matplotlib\n",
        "matplotlib.use('Agg')\n",
        "from matplotlib import pyplot\n",
        "\n",
        "import numpy as np\n",
        "import xgboost\n",
        "from sklearn import model_selection\n",
        "from sklearn.preprocessing import LabelEncoder\n",
        "from sklearn.metrics import classification_report\n",
        "\n",
        "# loading data\n",
        "X, y = load_breast_cancer(return_X_y=True)"
      ],
      "metadata": {
        "id": "S47qZk43qCkV"
      },
      "execution_count": null,
      "outputs": []
    },
    {
      "cell_type": "code",
      "source": [
        "#visualisation\n",
        "\n",
        "colors = ListedColormap(['red', 'blue'])\n",
        "light_colors = ListedColormap(['lightcoral', 'lightblue'])\n",
        "\n",
        "\n",
        "plt.figure(figsize=(8,8))\n",
        "plt.scatter(list(map(lambda x: x[0], X)), list(map(lambda x: x[1], X)), \n",
        "              c = y, cmap=colors)\n",
        "plt.show()"
      ],
      "metadata": {
        "id": "MpIRx1BgLxGS"
      },
      "execution_count": null,
      "outputs": []
    },
    {
      "cell_type": "code",
      "source": [
        "\n",
        "# grid search\n",
        "model = XGBClassifier()\n",
        "colsample_bylevel = [0.1, 0.2, 0.3, 0.4, 0.5, 0.6, 0.7, 0.8, 1.0]\n",
        "param_grid = dict(colsample_bylevel=colsample_bylevel)\n",
        "kfold = StratifiedKFold(n_splits=10, shuffle=True, random_state=7)\n",
        "grid_search = GridSearchCV(model, param_grid, scoring=\"neg_log_loss\", n_jobs=-1, cv=kfold)\n",
        "grid_result = grid_search.fit(X, y)\n",
        "# summarize results\n",
        "print(\"Best: %f using %s\" % (grid_result.best_score_, grid_result.best_params_))\n",
        "means = grid_result.cv_results_['mean_test_score']\n",
        "stds = grid_result.cv_results_['std_test_score']\n",
        "params = grid_result.cv_results_['params']\n",
        "for mean, stdev, param in zip(means, stds, params):\n",
        "\tprint(\"%f (%f) with: %r\" % (mean, stdev, param))\n",
        "# plot\n",
        "pyplot.errorbar(colsample_bylevel, means, yerr=stds)\n",
        "pyplot.title(\"XGBoost colsample_bylevel vs Log Loss\")\n",
        "pyplot.xlabel('colsample_bylevel')\n",
        "pyplot.ylabel('Log Loss')\n",
        "pyplot.savefig('colsample_bylevel.png')"
      ],
      "metadata": {
        "id": "hug-uvAnNnkS"
      },
      "execution_count": null,
      "outputs": []
    },
    {
      "cell_type": "code",
      "source": [
        "# multiclass classification\n",
        "\n",
        "\n",
        "def MSE(y_real, predictions):\n",
        "    return (sum((y_real - predictions)**2)) / len(y_real)\n",
        "\n",
        "\n",
        "\n",
        "test_size = 0.25\n",
        "X_train, X_test, y_train, y_test = model_selection.train_test_split(X, y, test_size=test_size, random_state =42)\n",
        "# fit model no training data\n",
        "model = xgboost.XGBClassifier(max_depth=5, subsample = 0.2,\n",
        "                  n_estimators = 100, seed = 42, learning_rate=0.1)\n",
        "model.fit(X_train, y_train)\n",
        "y_pred_train = model.predict(X_train)\n",
        "print(model)\n",
        "# make predictions for test data\n",
        "y_pred = model.predict(X_test)\n",
        "predictions = [round(value) for value in y_pred]\n",
        "#evaluating predictions\n",
        "rmse = np.sqrt(MSE(y_test, y_pred))\n",
        "print(\"RMSE : % f\" %(rmse))\n",
        "model.score(X_test, y_test)\n"
      ],
      "metadata": {
        "id": "eXDetAUMQx1Q"
      },
      "execution_count": null,
      "outputs": []
    },
    {
      "cell_type": "code",
      "source": [
        "print('XGBClassifier', classification_report(y_test, y_pred), sep = '\\n')"
      ],
      "metadata": {
        "id": "Rmv5mi2kVduN"
      },
      "execution_count": null,
      "outputs": []
    },
    {
      "cell_type": "code",
      "source": [
        "from xgboost import plot_tree\n",
        "plot_tree(model)\n",
        "plt.show()"
      ],
      "metadata": {
        "id": "R9ziljEbtpYz"
      },
      "execution_count": null,
      "outputs": []
    },
    {
      "cell_type": "code",
      "source": [
        "from sklearn.metrics import r2_score as r2\n",
        "import seaborn as sns\n",
        "def evaluate_preds(train_true_values, train_pred_values, test_true_values, test_pred_values):\n",
        "    print(\"Train R2:\\t\" + str(round(r2(train_true_values, train_pred_values), 3)))\n",
        "    print(\"Valid R2:\\t\" + str(round(r2(test_true_values, test_pred_values), 3)))\n",
        "    \n",
        "    pyplot.figure(figsize=(18,10))\n",
        "    \n",
        "    pyplot.subplot(121)\n",
        "    sns.scatterplot(x=train_pred_values, y=train_true_values)\n",
        "    pyplot.xlabel('Predicted values')\n",
        "    pyplot.ylabel('True values')\n",
        "    pyplot.title('Train sample prediction')\n",
        "    \n",
        "    pyplot.subplot(122)\n",
        "    sns.scatterplot(x=test_pred_values, y=test_true_values)\n",
        "    pyplot.xlabel('Predicted values')\n",
        "    pyplot.ylabel('True values')\n",
        "    pyplot.title('Valid sample prediction')\n",
        "\n",
        "    pyplot.show()"
      ],
      "metadata": {
        "id": "jmHxiCxInvN9"
      },
      "execution_count": null,
      "outputs": []
    },
    {
      "cell_type": "code",
      "source": [
        "y_train_preds = model.predict(X_train)\n",
        "y_train_preds = model.predict(X_test)\n",
        "\n",
        "evaluate_preds(y_train, y_pred_train, y_test, y_pred)"
      ],
      "metadata": {
        "id": "KCqItstxlMyk"
      },
      "execution_count": null,
      "outputs": []
    },
    {
      "cell_type": "code",
      "source": [
        "colors = ListedColormap(['red', 'blue'])\n",
        "light_colors = ListedColormap(['lightcoral', 'lightblue'])\n",
        "\n",
        "\n",
        "plt.figure(figsize=(8,8))\n",
        "plt.scatter(y_test,y_pred, \n",
        "              c = y_test, cmap=colors)"
      ],
      "metadata": {
        "id": "om6tFolAou9U"
      },
      "execution_count": null,
      "outputs": []
    },
    {
      "cell_type": "code",
      "source": [],
      "metadata": {
        "id": "BTLF7C1wlp40"
      },
      "execution_count": null,
      "outputs": []
    }
  ]
}