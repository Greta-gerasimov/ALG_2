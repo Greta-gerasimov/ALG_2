{
  "nbformat": 4,
  "nbformat_minor": 0,
  "metadata": {
    "colab": {
      "provenance": [],
      "collapsed_sections": [],
      "authorship_tag": "ABX9TyPng2kh8bklS3mwc+VEk6+b",
      "include_colab_link": true
    },
    "kernelspec": {
      "name": "python3",
      "display_name": "Python 3"
    },
    "language_info": {
      "name": "python"
    }
  },
  "cells": [
    {
      "cell_type": "markdown",
      "metadata": {
        "id": "view-in-github",
        "colab_type": "text"
      },
      "source": [
        "<a href=\"https://colab.research.google.com/github/Greta-gerasimov/ALG_2/blob/Lesson_6_GBoosting%2FSGB/hw6_heatmap.ipynb\" target=\"_parent\"><img src=\"https://colab.research.google.com/assets/colab-badge.svg\" alt=\"Open In Colab\"/></a>"
      ]
    },
    {
      "cell_type": "code",
      "source": [
        "from sklearn.datasets import load_breast_cancer\n",
        "from sklearn.tree import DecisionTreeClassifier\n",
        "import pandas as pd\n",
        "from sklearn.metrics import classification_report\n",
        "from sklearn.model_selection import KFold\n",
        "\n",
        "from sklearn.ensemble import GradientBoostingClassifier\n",
        "\n",
        "from sklearn import model_selection\n",
        "import numpy as np\n",
        "import matplotlib.pyplot as plt\n",
        "import seaborn as sns\n",
        "from sklearn.metrics import confusion_matrix\n",
        "from sklearn import metrics\n",
        "from sklearn.metrics import accuracy_score, precision_score, recall_score\n",
        "import statistics"
      ],
      "metadata": {
        "id": "ijhyfhuDkNeL"
      },
      "execution_count": 197,
      "outputs": []
    },
    {
      "cell_type": "code",
      "source": [
        "# X, y = load_breast_cancer(return_X_y=True)\n",
        "df = pd.DataFrame(load_breast_cancer()['data'],\n",
        "columns=load_breast_cancer()['feature_names'])\n",
        "df['y'] = load_breast_cancer()['target']\n",
        "df.head(5)"
      ],
      "metadata": {
        "colab": {
          "base_uri": "https://localhost:8080/",
          "height": 334
        },
        "id": "e5D3onWdkNnA",
        "outputId": "f09fffee-5281-4509-ecaa-8254d287fb42"
      },
      "execution_count": 198,
      "outputs": [
        {
          "output_type": "execute_result",
          "data": {
            "text/plain": [
              "   mean radius  mean texture  mean perimeter  mean area  mean smoothness  \\\n",
              "0        17.99         10.38          122.80     1001.0          0.11840   \n",
              "1        20.57         17.77          132.90     1326.0          0.08474   \n",
              "2        19.69         21.25          130.00     1203.0          0.10960   \n",
              "3        11.42         20.38           77.58      386.1          0.14250   \n",
              "4        20.29         14.34          135.10     1297.0          0.10030   \n",
              "\n",
              "   mean compactness  mean concavity  mean concave points  mean symmetry  \\\n",
              "0           0.27760          0.3001              0.14710         0.2419   \n",
              "1           0.07864          0.0869              0.07017         0.1812   \n",
              "2           0.15990          0.1974              0.12790         0.2069   \n",
              "3           0.28390          0.2414              0.10520         0.2597   \n",
              "4           0.13280          0.1980              0.10430         0.1809   \n",
              "\n",
              "   mean fractal dimension  ...  worst texture  worst perimeter  worst area  \\\n",
              "0                 0.07871  ...          17.33           184.60      2019.0   \n",
              "1                 0.05667  ...          23.41           158.80      1956.0   \n",
              "2                 0.05999  ...          25.53           152.50      1709.0   \n",
              "3                 0.09744  ...          26.50            98.87       567.7   \n",
              "4                 0.05883  ...          16.67           152.20      1575.0   \n",
              "\n",
              "   worst smoothness  worst compactness  worst concavity  worst concave points  \\\n",
              "0            0.1622             0.6656           0.7119                0.2654   \n",
              "1            0.1238             0.1866           0.2416                0.1860   \n",
              "2            0.1444             0.4245           0.4504                0.2430   \n",
              "3            0.2098             0.8663           0.6869                0.2575   \n",
              "4            0.1374             0.2050           0.4000                0.1625   \n",
              "\n",
              "   worst symmetry  worst fractal dimension  y  \n",
              "0          0.4601                  0.11890  0  \n",
              "1          0.2750                  0.08902  0  \n",
              "2          0.3613                  0.08758  0  \n",
              "3          0.6638                  0.17300  0  \n",
              "4          0.2364                  0.07678  0  \n",
              "\n",
              "[5 rows x 31 columns]"
            ],
            "text/html": [
              "\n",
              "  <div id=\"df-fc7883ad-5547-4d8d-87da-96e4d01f9ed1\">\n",
              "    <div class=\"colab-df-container\">\n",
              "      <div>\n",
              "<style scoped>\n",
              "    .dataframe tbody tr th:only-of-type {\n",
              "        vertical-align: middle;\n",
              "    }\n",
              "\n",
              "    .dataframe tbody tr th {\n",
              "        vertical-align: top;\n",
              "    }\n",
              "\n",
              "    .dataframe thead th {\n",
              "        text-align: right;\n",
              "    }\n",
              "</style>\n",
              "<table border=\"1\" class=\"dataframe\">\n",
              "  <thead>\n",
              "    <tr style=\"text-align: right;\">\n",
              "      <th></th>\n",
              "      <th>mean radius</th>\n",
              "      <th>mean texture</th>\n",
              "      <th>mean perimeter</th>\n",
              "      <th>mean area</th>\n",
              "      <th>mean smoothness</th>\n",
              "      <th>mean compactness</th>\n",
              "      <th>mean concavity</th>\n",
              "      <th>mean concave points</th>\n",
              "      <th>mean symmetry</th>\n",
              "      <th>mean fractal dimension</th>\n",
              "      <th>...</th>\n",
              "      <th>worst texture</th>\n",
              "      <th>worst perimeter</th>\n",
              "      <th>worst area</th>\n",
              "      <th>worst smoothness</th>\n",
              "      <th>worst compactness</th>\n",
              "      <th>worst concavity</th>\n",
              "      <th>worst concave points</th>\n",
              "      <th>worst symmetry</th>\n",
              "      <th>worst fractal dimension</th>\n",
              "      <th>y</th>\n",
              "    </tr>\n",
              "  </thead>\n",
              "  <tbody>\n",
              "    <tr>\n",
              "      <th>0</th>\n",
              "      <td>17.99</td>\n",
              "      <td>10.38</td>\n",
              "      <td>122.80</td>\n",
              "      <td>1001.0</td>\n",
              "      <td>0.11840</td>\n",
              "      <td>0.27760</td>\n",
              "      <td>0.3001</td>\n",
              "      <td>0.14710</td>\n",
              "      <td>0.2419</td>\n",
              "      <td>0.07871</td>\n",
              "      <td>...</td>\n",
              "      <td>17.33</td>\n",
              "      <td>184.60</td>\n",
              "      <td>2019.0</td>\n",
              "      <td>0.1622</td>\n",
              "      <td>0.6656</td>\n",
              "      <td>0.7119</td>\n",
              "      <td>0.2654</td>\n",
              "      <td>0.4601</td>\n",
              "      <td>0.11890</td>\n",
              "      <td>0</td>\n",
              "    </tr>\n",
              "    <tr>\n",
              "      <th>1</th>\n",
              "      <td>20.57</td>\n",
              "      <td>17.77</td>\n",
              "      <td>132.90</td>\n",
              "      <td>1326.0</td>\n",
              "      <td>0.08474</td>\n",
              "      <td>0.07864</td>\n",
              "      <td>0.0869</td>\n",
              "      <td>0.07017</td>\n",
              "      <td>0.1812</td>\n",
              "      <td>0.05667</td>\n",
              "      <td>...</td>\n",
              "      <td>23.41</td>\n",
              "      <td>158.80</td>\n",
              "      <td>1956.0</td>\n",
              "      <td>0.1238</td>\n",
              "      <td>0.1866</td>\n",
              "      <td>0.2416</td>\n",
              "      <td>0.1860</td>\n",
              "      <td>0.2750</td>\n",
              "      <td>0.08902</td>\n",
              "      <td>0</td>\n",
              "    </tr>\n",
              "    <tr>\n",
              "      <th>2</th>\n",
              "      <td>19.69</td>\n",
              "      <td>21.25</td>\n",
              "      <td>130.00</td>\n",
              "      <td>1203.0</td>\n",
              "      <td>0.10960</td>\n",
              "      <td>0.15990</td>\n",
              "      <td>0.1974</td>\n",
              "      <td>0.12790</td>\n",
              "      <td>0.2069</td>\n",
              "      <td>0.05999</td>\n",
              "      <td>...</td>\n",
              "      <td>25.53</td>\n",
              "      <td>152.50</td>\n",
              "      <td>1709.0</td>\n",
              "      <td>0.1444</td>\n",
              "      <td>0.4245</td>\n",
              "      <td>0.4504</td>\n",
              "      <td>0.2430</td>\n",
              "      <td>0.3613</td>\n",
              "      <td>0.08758</td>\n",
              "      <td>0</td>\n",
              "    </tr>\n",
              "    <tr>\n",
              "      <th>3</th>\n",
              "      <td>11.42</td>\n",
              "      <td>20.38</td>\n",
              "      <td>77.58</td>\n",
              "      <td>386.1</td>\n",
              "      <td>0.14250</td>\n",
              "      <td>0.28390</td>\n",
              "      <td>0.2414</td>\n",
              "      <td>0.10520</td>\n",
              "      <td>0.2597</td>\n",
              "      <td>0.09744</td>\n",
              "      <td>...</td>\n",
              "      <td>26.50</td>\n",
              "      <td>98.87</td>\n",
              "      <td>567.7</td>\n",
              "      <td>0.2098</td>\n",
              "      <td>0.8663</td>\n",
              "      <td>0.6869</td>\n",
              "      <td>0.2575</td>\n",
              "      <td>0.6638</td>\n",
              "      <td>0.17300</td>\n",
              "      <td>0</td>\n",
              "    </tr>\n",
              "    <tr>\n",
              "      <th>4</th>\n",
              "      <td>20.29</td>\n",
              "      <td>14.34</td>\n",
              "      <td>135.10</td>\n",
              "      <td>1297.0</td>\n",
              "      <td>0.10030</td>\n",
              "      <td>0.13280</td>\n",
              "      <td>0.1980</td>\n",
              "      <td>0.10430</td>\n",
              "      <td>0.1809</td>\n",
              "      <td>0.05883</td>\n",
              "      <td>...</td>\n",
              "      <td>16.67</td>\n",
              "      <td>152.20</td>\n",
              "      <td>1575.0</td>\n",
              "      <td>0.1374</td>\n",
              "      <td>0.2050</td>\n",
              "      <td>0.4000</td>\n",
              "      <td>0.1625</td>\n",
              "      <td>0.2364</td>\n",
              "      <td>0.07678</td>\n",
              "      <td>0</td>\n",
              "    </tr>\n",
              "  </tbody>\n",
              "</table>\n",
              "<p>5 rows × 31 columns</p>\n",
              "</div>\n",
              "      <button class=\"colab-df-convert\" onclick=\"convertToInteractive('df-fc7883ad-5547-4d8d-87da-96e4d01f9ed1')\"\n",
              "              title=\"Convert this dataframe to an interactive table.\"\n",
              "              style=\"display:none;\">\n",
              "        \n",
              "  <svg xmlns=\"http://www.w3.org/2000/svg\" height=\"24px\"viewBox=\"0 0 24 24\"\n",
              "       width=\"24px\">\n",
              "    <path d=\"M0 0h24v24H0V0z\" fill=\"none\"/>\n",
              "    <path d=\"M18.56 5.44l.94 2.06.94-2.06 2.06-.94-2.06-.94-.94-2.06-.94 2.06-2.06.94zm-11 1L8.5 8.5l.94-2.06 2.06-.94-2.06-.94L8.5 2.5l-.94 2.06-2.06.94zm10 10l.94 2.06.94-2.06 2.06-.94-2.06-.94-.94-2.06-.94 2.06-2.06.94z\"/><path d=\"M17.41 7.96l-1.37-1.37c-.4-.4-.92-.59-1.43-.59-.52 0-1.04.2-1.43.59L10.3 9.45l-7.72 7.72c-.78.78-.78 2.05 0 2.83L4 21.41c.39.39.9.59 1.41.59.51 0 1.02-.2 1.41-.59l7.78-7.78 2.81-2.81c.8-.78.8-2.07 0-2.86zM5.41 20L4 18.59l7.72-7.72 1.47 1.35L5.41 20z\"/>\n",
              "  </svg>\n",
              "      </button>\n",
              "      \n",
              "  <style>\n",
              "    .colab-df-container {\n",
              "      display:flex;\n",
              "      flex-wrap:wrap;\n",
              "      gap: 12px;\n",
              "    }\n",
              "\n",
              "    .colab-df-convert {\n",
              "      background-color: #E8F0FE;\n",
              "      border: none;\n",
              "      border-radius: 50%;\n",
              "      cursor: pointer;\n",
              "      display: none;\n",
              "      fill: #1967D2;\n",
              "      height: 32px;\n",
              "      padding: 0 0 0 0;\n",
              "      width: 32px;\n",
              "    }\n",
              "\n",
              "    .colab-df-convert:hover {\n",
              "      background-color: #E2EBFA;\n",
              "      box-shadow: 0px 1px 2px rgba(60, 64, 67, 0.3), 0px 1px 3px 1px rgba(60, 64, 67, 0.15);\n",
              "      fill: #174EA6;\n",
              "    }\n",
              "\n",
              "    [theme=dark] .colab-df-convert {\n",
              "      background-color: #3B4455;\n",
              "      fill: #D2E3FC;\n",
              "    }\n",
              "\n",
              "    [theme=dark] .colab-df-convert:hover {\n",
              "      background-color: #434B5C;\n",
              "      box-shadow: 0px 1px 3px 1px rgba(0, 0, 0, 0.15);\n",
              "      filter: drop-shadow(0px 1px 2px rgba(0, 0, 0, 0.3));\n",
              "      fill: #FFFFFF;\n",
              "    }\n",
              "  </style>\n",
              "\n",
              "      <script>\n",
              "        const buttonEl =\n",
              "          document.querySelector('#df-fc7883ad-5547-4d8d-87da-96e4d01f9ed1 button.colab-df-convert');\n",
              "        buttonEl.style.display =\n",
              "          google.colab.kernel.accessAllowed ? 'block' : 'none';\n",
              "\n",
              "        async function convertToInteractive(key) {\n",
              "          const element = document.querySelector('#df-fc7883ad-5547-4d8d-87da-96e4d01f9ed1');\n",
              "          const dataTable =\n",
              "            await google.colab.kernel.invokeFunction('convertToInteractive',\n",
              "                                                     [key], {});\n",
              "          if (!dataTable) return;\n",
              "\n",
              "          const docLinkHtml = 'Like what you see? Visit the ' +\n",
              "            '<a target=\"_blank\" href=https://colab.research.google.com/notebooks/data_table.ipynb>data table notebook</a>'\n",
              "            + ' to learn more about interactive tables.';\n",
              "          element.innerHTML = '';\n",
              "          dataTable['output_type'] = 'display_data';\n",
              "          await google.colab.output.renderOutput(dataTable, element);\n",
              "          const docLink = document.createElement('div');\n",
              "          docLink.innerHTML = docLinkHtml;\n",
              "          element.appendChild(docLink);\n",
              "        }\n",
              "      </script>\n",
              "    </div>\n",
              "  </div>\n",
              "  "
            ]
          },
          "metadata": {},
          "execution_count": 198
        }
      ]
    },
    {
      "cell_type": "code",
      "source": [
        "\n",
        "X,y = df.drop('y',axis=1),df.y\n",
        "kf = KFold(n_splits=5,random_state=42,shuffle=True)\n",
        "for train_index,test_index in kf.split(X):\n",
        "    X_train,X_test = X.iloc[train_index],X.iloc[test_index],\n",
        "    y_train,y_test = y.iloc[train_index],y.iloc[test_index],"
      ],
      "metadata": {
        "id": "laPiRvyNDP3Q"
      },
      "execution_count": 199,
      "outputs": []
    },
    {
      "cell_type": "code",
      "source": [
        "def get_error(pred, y):\n",
        "    return sum(pred != y) / len(y)"
      ],
      "metadata": {
        "id": "ZIYqBJ3y_-IA"
      },
      "execution_count": 200,
      "outputs": []
    },
    {
      "cell_type": "markdown",
      "source": [
        "#10 max_depth = 1"
      ],
      "metadata": {
        "id": "l4xWjBhoENjA"
      }
    },
    {
      "cell_type": "code",
      "source": [
        "def adaboost(X, y, N):\n",
        "    n_objects = len(X)\n",
        "    n_classes = len(np.unique((y)))\n",
        "    w = np.ones(n_objects) / n_objects\n",
        "    models = []\n",
        "\n",
        "    for n in range(N):\n",
        "        clf = DecisionTreeClassifier(max_depth=1)\n",
        "        clf.fit(X, y, sample_weight=w)\n",
        "\n",
        "        predictions = clf.predict(X)\n",
        "        e = get_error(predictions, y)\n",
        "        if e >= 1 - 1/n_classes: \n",
        "            break\n",
        "        alpha = 0.5 * np.log((1 - e) / e)\n",
        "        match = predictions == y\n",
        "        w[~match] *= np.exp(alpha)\n",
        "        w /= w.sum()\n",
        "        models.append((alpha, clf))\n",
        "    \n",
        "    return models\n",
        "\n",
        "N = 10\n",
        "\n",
        "models = adaboost(X_train, y_train, N)\n",
        "def predict(X, models):\n",
        "    \n",
        "    n_classes = 2\n",
        "    n_objects = len(X)\n",
        "    \n",
        "  \n",
        "    y_pred = np.zeros((n_objects, n_classes))\n",
        "    \n",
        "    for alpha, clf in models:\n",
        "        prediction = clf.predict(X)\n",
        "     \n",
        "        y_pred[range(n_objects), prediction] += alpha\n",
        "    \n",
        "\n",
        "    y_pred = np.argmax(y_pred, axis=1)\n",
        "    \n",
        "    return y_pred\n",
        "print(f'Точность алгоритма на обучающей выборке: {(1 - get_error(predict(X_train, models), y_train)) * 100:.3f}')\n",
        "print(f'Точность алгоритма на тестовой выборке: {(1 - get_error(predict(X_test, models), y_test)) * 100:.3f}')\n",
        "\n",
        "train_errors = []\n",
        "test_errors_10_1 = []\n",
        "\n",
        "\n",
        "for n in range(1, 31):\n",
        "    mods = adaboost(X_train, y_train, n)\n",
        "    train_errors.append(get_error(predict(X_train, mods), y_train))\n",
        "    test_errors_10_1.append(get_error(predict(X_test, mods), y_test))\n",
        "mean_test_errors_10_1 = statistics.mean(test_errors_10_1)\n",
        "print(mean_test_errors_10_1)"
      ],
      "metadata": {
        "id": "3ttrygwoE2-T",
        "colab": {
          "base_uri": "https://localhost:8080/"
        },
        "outputId": "2fa27740-3663-4828-8a09-6e3a3fedaafb"
      },
      "execution_count": 229,
      "outputs": [
        {
          "output_type": "stream",
          "name": "stdout",
          "text": [
            "Точность алгоритма на обучающей выборке: 96.930\n",
            "Точность алгоритма на тестовой выборке: 93.805\n",
            "0.09262536873156342\n"
          ]
        }
      ]
    },
    {
      "cell_type": "markdown",
      "source": [
        "#10, max_depth =2"
      ],
      "metadata": {
        "id": "4t2mArrqZTBt"
      }
    },
    {
      "cell_type": "code",
      "source": [
        "def adaboost(X, y, N):\n",
        "    n_objects = len(X)\n",
        "    n_classes = len(np.unique((y)))\n",
        "    w = np.ones(n_objects) / n_objects\n",
        "    models = []\n",
        "\n",
        "    for n in range(N):\n",
        "        clf = DecisionTreeClassifier(max_depth=2)\n",
        "        clf.fit(X, y, sample_weight=w)\n",
        "\n",
        "        predictions = clf.predict(X)\n",
        "        e = get_error(predictions, y)\n",
        "        if e >= 1 - 1/n_classes: \n",
        "            break\n",
        "        alpha = 0.5 * np.log((1 - e) / e)\n",
        "        match = predictions == y\n",
        "        w[~match] *= np.exp(alpha)\n",
        "        w /= w.sum()\n",
        "        models.append((alpha, clf))\n",
        "    \n",
        "    return models\n",
        "\n",
        "N = 10\n",
        "\n",
        "models = adaboost(X_train, y_train, N)\n",
        "def predict(X, models):\n",
        "    \n",
        "    n_classes = 2\n",
        "    n_objects = len(X)\n",
        "    \n",
        "  \n",
        "    y_pred = np.zeros((n_objects, n_classes))\n",
        "    \n",
        "    for alpha, clf in models:\n",
        "        prediction = clf.predict(X)\n",
        "     \n",
        "        y_pred[range(n_objects), prediction] += alpha\n",
        "    \n",
        "\n",
        "    y_pred = np.argmax(y_pred, axis=1)\n",
        "    \n",
        "    return y_pred\n",
        "\n",
        "print(f'Точность алгоритма на обучающей выборке: {(1 - get_error(predict(X_train, models), y_train)) * 100:.3f}')\n",
        "print(f'Точность алгоритма на тестовой выборке: {(1 - get_error(predict(X_test, models), y_test)) * 100:.3f}')\n",
        "\n",
        "train_errors = []\n",
        "test_errors_10_2 = []\n",
        "\n",
        "\n",
        "for n in range(1, 31):\n",
        "    mods = adaboost(X_train, y_train, n)\n",
        "    train_errors.append(get_error(predict(X_train, mods), y_train))\n",
        "    test_errors_10_2.append(get_error(predict(X_test, mods), y_test))\n",
        "mean_test_errors_10_2 = statistics.mean(test_errors_10_2)\n",
        "print(mean_test_errors_10_2)"
      ],
      "metadata": {
        "colab": {
          "base_uri": "https://localhost:8080/"
        },
        "id": "45Wz7KdwZNzL",
        "outputId": "a68fd176-9fb9-484d-8ba5-845961fbc1e0"
      },
      "execution_count": 235,
      "outputs": [
        {
          "output_type": "stream",
          "name": "stdout",
          "text": [
            "Точность алгоритма на обучающей выборке: 99.561\n",
            "Точность алгоритма на тестовой выборке: 94.690\n",
            "0.06342182890855458\n"
          ]
        }
      ]
    },
    {
      "cell_type": "markdown",
      "source": [
        "#10, max_depth = 3"
      ],
      "metadata": {
        "id": "zpB4QzMuEtW5"
      }
    },
    {
      "cell_type": "code",
      "source": [
        "def adaboost(X, y, N):\n",
        "    n_objects = len(X)\n",
        "    n_classes = len(np.unique((y)))\n",
        "    w = np.ones(n_objects) / n_objects\n",
        "    models = []\n",
        "\n",
        "    for n in range(N):\n",
        "        clf = DecisionTreeClassifier(max_depth=3)\n",
        "        clf.fit(X, y, sample_weight=w)\n",
        "\n",
        "        predictions = clf.predict(X)\n",
        "        e = get_error(predictions, y)\n",
        "        if e >= 1 - 1/n_classes: \n",
        "            break\n",
        "        alpha = 0.5 * np.log((1 - e) / e)\n",
        "        match = predictions == y\n",
        "        w[~match] *= np.exp(alpha)\n",
        "        w /= w.sum()\n",
        "        models.append((alpha, clf))\n",
        "    \n",
        "    return models\n",
        "\n",
        "N = 10\n",
        "\n",
        "models = adaboost(X_train, y_train, N)\n",
        "def predict(X, models):\n",
        "    \n",
        "    n_classes = 2\n",
        "    n_objects = len(X)\n",
        "    \n",
        "  \n",
        "    y_pred = np.zeros((n_objects, n_classes))\n",
        "    \n",
        "    for alpha, clf in models:\n",
        "        prediction = clf.predict(X)\n",
        "     \n",
        "        y_pred[range(n_objects), prediction] += alpha\n",
        "    \n",
        "\n",
        "    y_pred = np.argmax(y_pred, axis=1)\n",
        "    \n",
        "    return y_pred\n",
        "\n",
        "print(f'Точность алгоритма на обучающей выборке: {(1 - get_error(predict(X_train, models), y_train)) * 100:.3f}')\n",
        "print(f'Точность алгоритма на тестовой выборке: {(1 - get_error(predict(X_test, models), y_test)) * 100:.3f}')\n",
        "\n",
        "train_errors = []\n",
        "test_errors_10_3 = []\n",
        "\n",
        "\n",
        "for n in range(1, 31):\n",
        "    mods = adaboost(X_train, y_train, n)\n",
        "    train_errors.append(get_error(predict(X_train, mods), y_train))\n",
        "    test_errors_10_3.append(get_error(predict(X_test, mods), y_test))\n",
        "mean_test_errors_10_3 = statistics.mean(test_errors_10_3)\n",
        "print(mean_test_errors_10_3)"
      ],
      "metadata": {
        "id": "NlEamK2i_qBS",
        "colab": {
          "base_uri": "https://localhost:8080/"
        },
        "outputId": "7ed21e2c-f5ec-45ce-d516-9cba552fee4b"
      },
      "execution_count": 202,
      "outputs": [
        {
          "output_type": "stream",
          "name": "stdout",
          "text": [
            "Точность алгоритма на обучающей выборке: 100.000\n",
            "Точность алгоритма на тестовой выборке: 95.575\n",
            "0.04542772861356932\n"
          ]
        }
      ]
    },
    {
      "cell_type": "markdown",
      "source": [
        "#30, max_depth = 1"
      ],
      "metadata": {
        "id": "Y6CRTL1DjF_b"
      }
    },
    {
      "cell_type": "code",
      "source": [
        "def adaboost(X, y, N):\n",
        "    n_objects = len(X)\n",
        "    n_classes = len(np.unique((y)))\n",
        "    w = np.ones(n_objects) / n_objects\n",
        "    models = []\n",
        "\n",
        "    for n in range(N):\n",
        "        clf = DecisionTreeClassifier(max_depth=1)\n",
        "        clf.fit(X, y, sample_weight=w)\n",
        "\n",
        "        predictions = clf.predict(X)\n",
        "        e = get_error(predictions, y)\n",
        "        if e >= 1 - 1/n_classes: \n",
        "            break\n",
        "        alpha = 0.5 * np.log((1 - e) / e)\n",
        "        match = predictions == y\n",
        "        w[~match] *= np.exp(alpha)\n",
        "        w /= w.sum()\n",
        "        models.append((alpha, clf))\n",
        "    \n",
        "    return models\n",
        "\n",
        "N = 30\n",
        "\n",
        "models = adaboost(X_train, y_train, N)\n",
        "def predict(X, models):\n",
        "    \n",
        "    n_classes = 2\n",
        "    n_objects = len(X)\n",
        "    \n",
        "  \n",
        "    y_pred = np.zeros((n_objects, n_classes))\n",
        "    \n",
        "    for alpha, clf in models:\n",
        "        prediction = clf.predict(X)\n",
        "     \n",
        "        y_pred[range(n_objects), prediction] += alpha\n",
        "    \n",
        "\n",
        "    y_pred = np.argmax(y_pred, axis=1)\n",
        "    \n",
        "    return y_pred\n",
        "\n",
        "print(f'Точность алгоритма на обучающей выборке: {(1 - get_error(predict(X_train, models), y_train)) * 100:.3f}')\n",
        "print(f'Точность алгоритма на тестовой выборке: {(1 - get_error(predict(X_test, models), y_test)) * 100:.3f}')\n",
        "\n",
        "train_errors = []\n",
        "test_errors_30_1 = []\n",
        "\n",
        "\n",
        "for n in range(1, 31):\n",
        "    mods = adaboost(X_train, y_train, n)\n",
        "    train_errors.append(get_error(predict(X_train, mods), y_train))\n",
        "    test_errors_30_1.append(get_error(predict(X_test, mods), y_test))\n",
        "mean_test_errors_30_1 = statistics.mean(test_errors_30_1)\n",
        "print(mean_test_errors_30_1)"
      ],
      "metadata": {
        "colab": {
          "base_uri": "https://localhost:8080/"
        },
        "id": "2VCa4_h_jFNd",
        "outputId": "609b27c2-0f9f-4da7-a082-ddb44d5ec7ac"
      },
      "execution_count": 263,
      "outputs": [
        {
          "output_type": "stream",
          "name": "stdout",
          "text": [
            "Точность алгоритма на обучающей выборке: 97.807\n",
            "Точность алгоритма на тестовой выборке: 92.035\n",
            "0.09262536873156342\n"
          ]
        }
      ]
    },
    {
      "cell_type": "markdown",
      "source": [],
      "metadata": {
        "id": "86nFNjhsjYAF"
      }
    },
    {
      "cell_type": "markdown",
      "source": [
        "#30, max_depth = 2"
      ],
      "metadata": {
        "id": "1yM3wpygjYHJ"
      }
    },
    {
      "cell_type": "code",
      "source": [
        "def adaboost(X, y, N):\n",
        "    n_objects = len(X)\n",
        "    n_classes = len(np.unique((y)))\n",
        "    w = np.ones(n_objects) / n_objects\n",
        "    models = []\n",
        "\n",
        "    for n in range(N):\n",
        "        clf = DecisionTreeClassifier(max_depth=2)\n",
        "        clf.fit(X, y, sample_weight=w)\n",
        "\n",
        "        predictions = clf.predict(X)\n",
        "        e = get_error(predictions, y)\n",
        "        if e >= 1 - 1/n_classes: \n",
        "            break\n",
        "        alpha = 0.5 * np.log((1 - e) / e)\n",
        "        match = predictions == y\n",
        "        w[~match] *= np.exp(alpha)\n",
        "        w /= w.sum()\n",
        "        models.append((alpha, clf))\n",
        "    \n",
        "    return models\n",
        "\n",
        "N = 30\n",
        "\n",
        "models = adaboost(X_train, y_train, N)\n",
        "def predict(X, models):\n",
        "    \n",
        "    n_classes = 2\n",
        "    n_objects = len(X)\n",
        "    \n",
        "  \n",
        "    y_pred = np.zeros((n_objects, n_classes))\n",
        "    \n",
        "    for alpha, clf in models:\n",
        "        prediction = clf.predict(X)\n",
        "     \n",
        "        y_pred[range(n_objects), prediction] += alpha\n",
        "    \n",
        "\n",
        "    y_pred = np.argmax(y_pred, axis=1)\n",
        "    \n",
        "    return y_pred\n",
        "\n",
        "print(f'Точность алгоритма на обучающей выборке: {(1 - get_error(predict(X_train, models), y_train)) * 100:.3f}')\n",
        "print(f'Точность алгоритма на тестовой выборке: {(1 - get_error(predict(X_test, models), y_test)) * 100:.3f}')\n",
        "\n",
        "train_errors = []\n",
        "test_errors_30_2 = []\n",
        "\n",
        "\n",
        "for n in range(1, 31):\n",
        "    mods = adaboost(X_train, y_train, n)\n",
        "    train_errors.append(get_error(predict(X_train, mods), y_train))\n",
        "    test_errors_30_2.append(get_error(predict(X_test, mods), y_test))\n",
        "mean_test_errors_30_2 = statistics.mean(test_errors_30_2)\n",
        "print(mean_test_errors_30_2)"
      ],
      "metadata": {
        "colab": {
          "base_uri": "https://localhost:8080/"
        },
        "id": "tgt1ZQe6jb2X",
        "outputId": "f60526e2-ee3e-4ac4-830a-f2c3d143f469"
      },
      "execution_count": 264,
      "outputs": [
        {
          "output_type": "stream",
          "name": "stdout",
          "text": [
            "Точность алгоритма на обучающей выборке: 100.000\n",
            "Точность алгоритма на тестовой выборке: 93.805\n",
            "0.06342182890855458\n"
          ]
        }
      ]
    },
    {
      "cell_type": "markdown",
      "source": [
        "#30, max_depth=3"
      ],
      "metadata": {
        "id": "4QUbsVCcjkVa"
      }
    },
    {
      "cell_type": "code",
      "source": [
        "def adaboost(X, y, N):\n",
        "    n_objects = len(X)\n",
        "    n_classes = len(np.unique((y)))\n",
        "    w = np.ones(n_objects) / n_objects\n",
        "    models = []\n",
        "\n",
        "    for n in range(N):\n",
        "        clf = DecisionTreeClassifier(max_depth=3)\n",
        "        clf.fit(X, y, sample_weight=w)\n",
        "\n",
        "        predictions = clf.predict(X)\n",
        "        e = get_error(predictions, y)\n",
        "        if e >= 1 - 1/n_classes: \n",
        "            break\n",
        "        alpha = 0.5 * np.log((1 - e) / e)\n",
        "        match = predictions == y\n",
        "        w[~match] *= np.exp(alpha)\n",
        "        w /= w.sum()\n",
        "        models.append((alpha, clf))\n",
        "    \n",
        "    return models\n",
        "\n",
        "N = 30\n",
        "\n",
        "models = adaboost(X_train, y_train, N)\n",
        "def predict(X, models):\n",
        "    \n",
        "    n_classes = 2\n",
        "    n_objects = len(X)\n",
        "    \n",
        "  \n",
        "    y_pred = np.zeros((n_objects, n_classes))\n",
        "    \n",
        "    for alpha, clf in models:\n",
        "        prediction = clf.predict(X)\n",
        "     \n",
        "        y_pred[range(n_objects), prediction] += alpha\n",
        "    \n",
        "\n",
        "    y_pred = np.argmax(y_pred, axis=1)\n",
        "    \n",
        "    return y_pred\n",
        "\n",
        "print(f'Точность алгоритма на обучающей выборке: {(1 - get_error(predict(X_train, models), y_train)) * 100:.3f}')\n",
        "print(f'Точность алгоритма на тестовой выборке: {(1 - get_error(predict(X_test, models), y_test)) * 100:.3f}')\n",
        "\n",
        "train_errors = []\n",
        "test_errors_30_3 = []\n",
        "\n",
        "\n",
        "for n in range(1, 31):\n",
        "    mods = adaboost(X_train, y_train, n)\n",
        "    train_errors.append(get_error(predict(X_train, mods), y_train))\n",
        "    test_errors_30_3.append(get_error(predict(X_test, mods), y_test))\n",
        "mean_test_errors_30_3 = statistics.mean(test_errors_30_3)\n",
        "print(mean_test_errors_30_3)"
      ],
      "metadata": {
        "colab": {
          "base_uri": "https://localhost:8080/"
        },
        "id": "3Tb8MfpAjqhF",
        "outputId": "3ff33d79-8f2b-4fe6-e318-33c579d34c7b"
      },
      "execution_count": 266,
      "outputs": [
        {
          "output_type": "stream",
          "name": "stdout",
          "text": [
            "Точность алгоритма на обучающей выборке: 100.000\n",
            "Точность алгоритма на тестовой выборке: 95.575\n",
            "0.04454277286135693\n"
          ]
        }
      ]
    },
    {
      "cell_type": "markdown",
      "source": [
        "#50, max_depth = 1"
      ],
      "metadata": {
        "id": "UgpQx5VGIcLv"
      }
    },
    {
      "cell_type": "code",
      "source": [
        "def adaboost(X, y, N):\n",
        "    n_objects = len(X)\n",
        "    n_classes = len(np.unique((y)))\n",
        "    w = np.ones(n_objects) / n_objects\n",
        "    models = []\n",
        "\n",
        "    for n in range(N):\n",
        "        clf = DecisionTreeClassifier(max_depth=1)\n",
        "        clf.fit(X, y, sample_weight=w)\n",
        "\n",
        "        predictions = clf.predict(X)\n",
        "        e = get_error(predictions, y)\n",
        "        if e >= 1 - 1/n_classes: \n",
        "            break\n",
        "        alpha = 0.5 * np.log((1 - e) / e)\n",
        "        match = predictions == y\n",
        "        w[~match] *= np.exp(alpha)\n",
        "        w /= w.sum()\n",
        "        models.append((alpha, clf))\n",
        "    \n",
        "    return models\n",
        "\n",
        "N = 50\n",
        "\n",
        "models = adaboost(X_train, y_train, N)\n",
        "def predict(X, models):\n",
        "    \n",
        "    n_classes = 2\n",
        "    n_objects = len(X)\n",
        "    \n",
        "  \n",
        "    y_pred = np.zeros((n_objects, n_classes))\n",
        "    \n",
        "    for alpha, clf in models:\n",
        "        prediction = clf.predict(X)\n",
        "     \n",
        "        y_pred[range(n_objects), prediction] += alpha\n",
        "    \n",
        "\n",
        "    y_pred = np.argmax(y_pred, axis=1)\n",
        "    \n",
        "    return y_pred\n",
        "\n",
        "print(f'Точность алгоритма на обучающей выборке: {(1 - get_error(predict(X_train, models), y_train)) * 100:.3f}')\n",
        "print(f'Точность алгоритма на тестовой выборке: {(1 - get_error(predict(X_test, models), y_test)) * 100:.3f}')\n",
        "\n",
        "train_errors = []\n",
        "test_errors_50_1 = []\n",
        "\n",
        "\n",
        "for n in range(1, 31):\n",
        "    mods = adaboost(X_train, y_train, n)\n",
        "    train_errors.append(get_error(predict(X_train, mods), y_train))\n",
        "    test_errors_50_1.append(get_error(predict(X_test, mods), y_test))\n",
        "mean_test_errors_50_1 = statistics.mean(test_errors_50_1)\n",
        "print(mean_test_errors_50_1)"
      ],
      "metadata": {
        "id": "jdlei7JYFjkO",
        "colab": {
          "base_uri": "https://localhost:8080/"
        },
        "outputId": "6431545a-1b36-4f5d-8644-40ed031161b2"
      },
      "execution_count": 204,
      "outputs": [
        {
          "output_type": "stream",
          "name": "stdout",
          "text": [
            "Точность алгоритма на обучающей выборке: 97.807\n",
            "Точность алгоритма на тестовой выборке: 92.035\n",
            "0.09262536873156342\n"
          ]
        }
      ]
    },
    {
      "cell_type": "markdown",
      "source": [
        "#50,max_depth = 2"
      ],
      "metadata": {
        "id": "DV4IU4o_Zbxr"
      }
    },
    {
      "cell_type": "code",
      "source": [
        "def adaboost(X, y, N):\n",
        "    n_objects = len(X)\n",
        "    n_classes = len(np.unique((y)))\n",
        "    w = np.ones(n_objects) / n_objects\n",
        "    models = []\n",
        "\n",
        "    for n in range(N):\n",
        "        # Зададим дерево и обучим его\n",
        "        clf = DecisionTreeClassifier(max_depth=2)\n",
        "        clf.fit(X, y, sample_weight=w)\n",
        "\n",
        "        predictions = clf.predict(X)\n",
        "        e = get_error(predictions, y)\n",
        " \n",
        "        if e >= 1 - 1/n_classes: \n",
        "            break\n",
        "\n",
        " \n",
        "        alpha = 0.5 * np.log((1 - e) / e)\n",
        "\n",
        "   \n",
        "        match = predictions == y\n",
        "\n",
        "    \n",
        "        w[~match] *= np.exp(alpha)\n",
        "\n",
        "        w /= w.sum()\n",
        "\n",
        "    \n",
        "        models.append((alpha, clf))\n",
        "    \n",
        "    return models\n",
        "\n",
        "N = 50\n",
        "\n",
        "models = adaboost(X_train, y_train, N)\n",
        "def predict(X, models):\n",
        "    \n",
        "    n_classes = 2\n",
        "    n_objects = len(X)\n",
        "    \n",
        "  \n",
        "    y_pred = np.zeros((n_objects, n_classes))\n",
        "    \n",
        "    for alpha, clf in models:\n",
        "        prediction = clf.predict(X)\n",
        "        y_pred[range(n_objects), prediction] += alpha\n",
        "    \n",
        "\n",
        "    y_pred = np.argmax(y_pred, axis=1)\n",
        "    \n",
        "    return y_pred\n",
        "\n",
        "print(f'Точность алгоритма на обучающей выборке: {(1 - get_error(predict(X_train, models), y_train)) * 100:.3f}')\n",
        "print(f'Точность алгоритма на тестовой выборке: {(1 - get_error(predict(X_test, models), y_test)) * 100:.3f}')\n",
        "\n",
        "train_errors = []\n",
        "test_errors_50_2 = []\n",
        "\n",
        "\n",
        "for n in range(1, 31):\n",
        "    mods = adaboost(X_train, y_train, n)\n",
        "    train_errors.append(get_error(predict(X_train, mods), y_train))\n",
        "    test_errors_50_2.append(get_error(predict(X_test, mods), y_test))\n",
        "mean_test_errors_50_2 = statistics.mean(test_errors_50_2)\n",
        "print(mean_test_errors_50_2)"
      ],
      "metadata": {
        "colab": {
          "base_uri": "https://localhost:8080/"
        },
        "id": "5zswflDoZeta",
        "outputId": "fa8f495d-55b6-4e04-fe1f-c71ea60edc68"
      },
      "execution_count": 236,
      "outputs": [
        {
          "output_type": "stream",
          "name": "stdout",
          "text": [
            "Точность алгоритма на обучающей выборке: 100.000\n",
            "Точность алгоритма на тестовой выборке: 94.690\n",
            "0.06342182890855458\n"
          ]
        }
      ]
    },
    {
      "cell_type": "markdown",
      "source": [
        "#50, max_depth = 3"
      ],
      "metadata": {
        "id": "s0SUfnTkIm4x"
      }
    },
    {
      "cell_type": "code",
      "source": [
        "def adaboost(X, y, N):\n",
        "    n_objects = len(X)\n",
        "    n_classes = len(np.unique((y)))\n",
        "    w = np.ones(n_objects) / n_objects\n",
        "    models = []\n",
        "\n",
        "    for n in range(N):\n",
        "        clf = DecisionTreeClassifier(max_depth=3)\n",
        "        clf.fit(X, y, sample_weight=w)\n",
        "\n",
        "        predictions = clf.predict(X)\n",
        "        e = get_error(predictions, y)\n",
        "        if e >= 1 - 1/n_classes: \n",
        "            break\n",
        "        alpha = 0.5 * np.log((1 - e) / e)\n",
        "        match = predictions == y\n",
        "        w[~match] *= np.exp(alpha)\n",
        "        w /= w.sum()\n",
        "        models.append((alpha, clf))\n",
        "    \n",
        "    return models\n",
        "\n",
        "N = 50\n",
        "\n",
        "models = adaboost(X_train, y_train, N)\n",
        "def predict(X, models):\n",
        "    \n",
        "    n_classes = 2\n",
        "    n_objects = len(X)\n",
        "    \n",
        "  \n",
        "    y_pred = np.zeros((n_objects, n_classes))\n",
        "    \n",
        "    for alpha, clf in models:\n",
        "        prediction = clf.predict(X)\n",
        "     \n",
        "        y_pred[range(n_objects), prediction] += alpha\n",
        "    \n",
        "\n",
        "    y_pred = np.argmax(y_pred, axis=1)\n",
        "    \n",
        "    return y_pred\n",
        "print(f'Точность алгоритма на обучающей выборке: {(1 - get_error(predict(X_train, models), y_train)) * 100:.3f}')\n",
        "print(f'Точность алгоритма на тестовой выборке: {(1 - get_error(predict(X_test, models), y_test)) * 100:.3f}')\n",
        "\n",
        "train_errors = []\n",
        "test_errors_50_3 = []\n",
        "\n",
        "\n",
        "for n in range(1, 31):\n",
        "    mods = adaboost(X_train, y_train, n)\n",
        "    train_errors.append(get_error(predict(X_train, mods), y_train))\n",
        "    test_errors_50_3.append(get_error(predict(X_test, mods), y_test))\n",
        "mean_test_errors_50_3 = statistics.mean(test_errors_50_3)\n",
        "print(mean_test_errors_50_3)"
      ],
      "metadata": {
        "colab": {
          "base_uri": "https://localhost:8080/"
        },
        "id": "3pC97izhIkwO",
        "outputId": "4166c2ac-fc7c-4859-864d-4c9371c6783d"
      },
      "execution_count": 205,
      "outputs": [
        {
          "output_type": "stream",
          "name": "stdout",
          "text": [
            "Точность алгоритма на обучающей выборке: 100.000\n",
            "Точность алгоритма на тестовой выборке: 95.575\n",
            "0.04454277286135693\n"
          ]
        }
      ]
    },
    {
      "cell_type": "markdown",
      "source": [
        "#100, max_depth = 1\n"
      ],
      "metadata": {
        "id": "7OnVt0QcIyJQ"
      }
    },
    {
      "cell_type": "code",
      "source": [
        "def adaboost(X, y, N):\n",
        "    n_objects = len(X)\n",
        "    n_classes = len(np.unique((y)))\n",
        "    w = np.ones(n_objects) / n_objects\n",
        "    models = []\n",
        "\n",
        "    for n in range(N):\n",
        "        clf = DecisionTreeClassifier(max_depth=1)\n",
        "        clf.fit(X, y, sample_weight=w)\n",
        "\n",
        "        predictions = clf.predict(X)\n",
        "        e = get_error(predictions, y)\n",
        "        if e >= 1 - 1/n_classes: \n",
        "            break\n",
        "        alpha = 0.5 * np.log((1 - e) / e)\n",
        "        match = predictions == y\n",
        "        w[~match] *= np.exp(alpha)\n",
        "        w /= w.sum()\n",
        "        models.append((alpha, clf))\n",
        "    \n",
        "    return models\n",
        "\n",
        "N = 100\n",
        "\n",
        "models = adaboost(X_train, y_train, N)\n",
        "def predict(X, models):\n",
        "    \n",
        "    n_classes = 2\n",
        "    n_objects = len(X)\n",
        "    \n",
        "  \n",
        "    y_pred = np.zeros((n_objects, n_classes))\n",
        "    \n",
        "    for alpha, clf in models:\n",
        "        prediction = clf.predict(X)\n",
        "     \n",
        "        y_pred[range(n_objects), prediction] += alpha\n",
        "    \n",
        "\n",
        "    y_pred = np.argmax(y_pred, axis=1)\n",
        "    \n",
        "    return y_pred\n",
        "\n",
        "print(f'Точность алгоритма на обучающей выборке: {(1 - get_error(predict(X_train, models), y_train)) * 100:.3f}')\n",
        "print(f'Точность алгоритма на тестовой выборке: {(1 - get_error(predict(X_test, models), y_test)) * 100:.3f}')\n",
        "\n",
        "train_errors = []\n",
        "test_errors_100_1 = []\n",
        "\n",
        "\n",
        "for n in range(1, 31):\n",
        "    mods = adaboost(X_train, y_train, n)\n",
        "    train_errors.append(get_error(predict(X_train, mods), y_train))\n",
        "    test_errors_100_1.append(get_error(predict(X_test, mods), y_test))\n",
        "mean_test_errors_100_1 = statistics.mean(test_errors_100_1)\n",
        "print(mean_test_errors_100_1)"
      ],
      "metadata": {
        "colab": {
          "base_uri": "https://localhost:8080/"
        },
        "id": "GWsuoVDdIrGB",
        "outputId": "875c1509-230a-4903-ecdf-f110082aef8b"
      },
      "execution_count": 206,
      "outputs": [
        {
          "output_type": "stream",
          "name": "stdout",
          "text": [
            "Точность алгоритма на обучающей выборке: 97.807\n",
            "Точность алгоритма на тестовой выборке: 92.035\n",
            "0.09262536873156342\n"
          ]
        }
      ]
    },
    {
      "cell_type": "markdown",
      "source": [
        "#100, max_depth =2\n"
      ],
      "metadata": {
        "id": "SFtb-7gYZrWH"
      }
    },
    {
      "cell_type": "code",
      "source": [
        "def adaboost(X, y, N):\n",
        "    n_objects = len(X)\n",
        "    n_classes = len(np.unique((y)))\n",
        "    w = np.ones(n_objects) / n_objects\n",
        "    models = []\n",
        "\n",
        "    for n in range(N):\n",
        "        clf = DecisionTreeClassifier(max_depth=2)\n",
        "        clf.fit(X, y, sample_weight=w)\n",
        "\n",
        "        predictions = clf.predict(X)\n",
        "        e = get_error(predictions, y)\n",
        "        if e >= 1 - 1/n_classes: \n",
        "            break\n",
        "        alpha = 0.5 * np.log((1 - e) / e)\n",
        "        match = predictions == y\n",
        "        w[~match] *= np.exp(alpha)\n",
        "        w /= w.sum()\n",
        "        models.append((alpha, clf))\n",
        "    \n",
        "    return models\n",
        "\n",
        "N = 100\n",
        "\n",
        "models = adaboost(X_train, y_train, N)\n",
        "def predict(X, models):\n",
        "    \n",
        "    n_classes = 2\n",
        "    n_objects = len(X)\n",
        "    \n",
        "  \n",
        "    y_pred = np.zeros((n_objects, n_classes))\n",
        "    \n",
        "    for alpha, clf in models:\n",
        "        prediction = clf.predict(X)\n",
        "     \n",
        "        y_pred[range(n_objects), prediction] += alpha\n",
        "    \n",
        "\n",
        "    y_pred = np.argmax(y_pred, axis=1)\n",
        "    \n",
        "    return y_pred\n",
        "\n",
        "print(f'Точность алгоритма на обучающей выборке: {(1 - get_error(predict(X_train, models), y_train)) * 100:.3f}')\n",
        "print(f'Точность алгоритма на тестовой выборке: {(1 - get_error(predict(X_test, models), y_test)) * 100:.3f}')\n",
        "\n",
        "train_errors = []\n",
        "test_errors_100_2 = []\n",
        "\n",
        "\n",
        "for n in range(1, 31):\n",
        "    mods = adaboost(X_train, y_train, n)\n",
        "    train_errors.append(get_error(predict(X_train, mods), y_train))\n",
        "    test_errors_100_2.append(get_error(predict(X_test, mods), y_test))\n",
        "mean_test_errors_100_2 = statistics.mean(test_errors_100_2)\n",
        "print(mean_test_errors_100_2)"
      ],
      "metadata": {
        "colab": {
          "base_uri": "https://localhost:8080/"
        },
        "id": "XsT90YcDZuXw",
        "outputId": "a6fd56e5-924b-43d7-9a14-323e64883425"
      },
      "execution_count": 237,
      "outputs": [
        {
          "output_type": "stream",
          "name": "stdout",
          "text": [
            "Точность алгоритма на обучающей выборке: 100.000\n",
            "Точность алгоритма на тестовой выборке: 95.575\n",
            "0.06342182890855458\n"
          ]
        }
      ]
    },
    {
      "cell_type": "markdown",
      "source": [
        "#100, max_depth = 3"
      ],
      "metadata": {
        "id": "_vyIp5J2JKmA"
      }
    },
    {
      "cell_type": "code",
      "source": [
        "def adaboost(X, y, N):\n",
        "    n_objects = len(X)\n",
        "    n_classes = len(np.unique((y)))\n",
        "    w = np.ones(n_objects) / n_objects\n",
        "    models = []\n",
        "\n",
        "    for n in range(N):\n",
        "        clf = DecisionTreeClassifier(max_depth=3)\n",
        "        clf.fit(X, y, sample_weight=w)\n",
        "\n",
        "        predictions = clf.predict(X)\n",
        "        e = get_error(predictions, y)\n",
        "        if e >= 1 - 1/n_classes: \n",
        "            break\n",
        "        alpha = 0.5 * np.log((1 - e) / e)\n",
        "        match = predictions == y\n",
        "        w[~match] *= np.exp(alpha)\n",
        "        w /= w.sum()\n",
        "        models.append((alpha, clf))\n",
        "    \n",
        "    return models\n",
        "\n",
        "N = 100\n",
        "\n",
        "models = adaboost(X_train, y_train, N)\n",
        "def predict(X, models):\n",
        "    \n",
        "    n_classes = 2\n",
        "    n_objects = len(X)\n",
        "    \n",
        "  \n",
        "    y_pred = np.zeros((n_objects, n_classes))\n",
        "    \n",
        "    for alpha, clf in models:\n",
        "        prediction = clf.predict(X)\n",
        "     \n",
        "        y_pred[range(n_objects), prediction] += alpha\n",
        "    \n",
        "\n",
        "    y_pred = np.argmax(y_pred, axis=1)\n",
        "    \n",
        "    return y_pred\n",
        "\n",
        "print(f'Точность алгоритма на обучающей выборке: {(1 - get_error(predict(X_train, models), y_train)) * 100:.3f}')\n",
        "print(f'Точность алгоритма на тестовой выборке: {(1 - get_error(predict(X_test, models), y_test)) * 100:.3f}')\n",
        "\n",
        "train_errors = []\n",
        "test_errors_100_3 = []\n",
        "\n",
        "\n",
        "for n in range(1, 31):\n",
        "    mods = adaboost(X_train, y_train, n)\n",
        "    train_errors.append(get_error(predict(X_train, mods), y_train))\n",
        "    test_errors_100_3.append(get_error(predict(X_test, mods), y_test))\n",
        "mean_test_errors_100_3 = statistics.mean(test_errors_100_3)\n",
        "\n",
        "print(mean_test_errors_100_3)"
      ],
      "metadata": {
        "colab": {
          "base_uri": "https://localhost:8080/"
        },
        "id": "0XkY5LdlI3rN",
        "outputId": "c599f45a-b999-4bdd-b8ef-f88f6bc4858e"
      },
      "execution_count": 207,
      "outputs": [
        {
          "output_type": "stream",
          "name": "stdout",
          "text": [
            "Точность алгоритма на обучающей выборке: 100.000\n",
            "Точность алгоритма на тестовой выборке: 95.575\n",
            "0.04365781710914454\n"
          ]
        }
      ]
    },
    {
      "cell_type": "code",
      "source": [
        "d = {\"10\": [(round(mean_test_errors_10_1,2)),(round(mean_test_errors_10_2,2)),(round(mean_test_errors_10_3,2))],\"30\":[(round(mean_test_errors_30_1,2)),(round(mean_test_errors_30_2,2)),(round(mean_test_errors_30_3,2))] , \"50\": [(round(mean_test_errors_50_1,2)),(round(mean_test_errors_50_2,2)),(round(mean_test_errors_50_3,2))], \"100\": [(round(mean_test_errors_100_1,2)),(round(mean_test_errors_100_2,2)),(round(mean_test_errors_100_3,2))]}\n",
        "df = pd.DataFrame(data = d, index= [1,2,3])\n",
        "df"
      ],
      "metadata": {
        "colab": {
          "base_uri": "https://localhost:8080/",
          "height": 143
        },
        "id": "e7iYwbMGJXsE",
        "outputId": "65c18107-875d-4868-c04f-bd06c84e506e"
      },
      "execution_count": 270,
      "outputs": [
        {
          "output_type": "execute_result",
          "data": {
            "text/plain": [
              "     10    30    50   100\n",
              "1  0.06  0.04  0.09  0.09\n",
              "2  0.06  0.06  0.06  0.06\n",
              "3  0.05  0.04  0.04  0.04"
            ],
            "text/html": [
              "\n",
              "  <div id=\"df-27a5556f-0d85-4e56-a499-555c756d80ab\">\n",
              "    <div class=\"colab-df-container\">\n",
              "      <div>\n",
              "<style scoped>\n",
              "    .dataframe tbody tr th:only-of-type {\n",
              "        vertical-align: middle;\n",
              "    }\n",
              "\n",
              "    .dataframe tbody tr th {\n",
              "        vertical-align: top;\n",
              "    }\n",
              "\n",
              "    .dataframe thead th {\n",
              "        text-align: right;\n",
              "    }\n",
              "</style>\n",
              "<table border=\"1\" class=\"dataframe\">\n",
              "  <thead>\n",
              "    <tr style=\"text-align: right;\">\n",
              "      <th></th>\n",
              "      <th>10</th>\n",
              "      <th>30</th>\n",
              "      <th>50</th>\n",
              "      <th>100</th>\n",
              "    </tr>\n",
              "  </thead>\n",
              "  <tbody>\n",
              "    <tr>\n",
              "      <th>1</th>\n",
              "      <td>0.06</td>\n",
              "      <td>0.04</td>\n",
              "      <td>0.09</td>\n",
              "      <td>0.09</td>\n",
              "    </tr>\n",
              "    <tr>\n",
              "      <th>2</th>\n",
              "      <td>0.06</td>\n",
              "      <td>0.06</td>\n",
              "      <td>0.06</td>\n",
              "      <td>0.06</td>\n",
              "    </tr>\n",
              "    <tr>\n",
              "      <th>3</th>\n",
              "      <td>0.05</td>\n",
              "      <td>0.04</td>\n",
              "      <td>0.04</td>\n",
              "      <td>0.04</td>\n",
              "    </tr>\n",
              "  </tbody>\n",
              "</table>\n",
              "</div>\n",
              "      <button class=\"colab-df-convert\" onclick=\"convertToInteractive('df-27a5556f-0d85-4e56-a499-555c756d80ab')\"\n",
              "              title=\"Convert this dataframe to an interactive table.\"\n",
              "              style=\"display:none;\">\n",
              "        \n",
              "  <svg xmlns=\"http://www.w3.org/2000/svg\" height=\"24px\"viewBox=\"0 0 24 24\"\n",
              "       width=\"24px\">\n",
              "    <path d=\"M0 0h24v24H0V0z\" fill=\"none\"/>\n",
              "    <path d=\"M18.56 5.44l.94 2.06.94-2.06 2.06-.94-2.06-.94-.94-2.06-.94 2.06-2.06.94zm-11 1L8.5 8.5l.94-2.06 2.06-.94-2.06-.94L8.5 2.5l-.94 2.06-2.06.94zm10 10l.94 2.06.94-2.06 2.06-.94-2.06-.94-.94-2.06-.94 2.06-2.06.94z\"/><path d=\"M17.41 7.96l-1.37-1.37c-.4-.4-.92-.59-1.43-.59-.52 0-1.04.2-1.43.59L10.3 9.45l-7.72 7.72c-.78.78-.78 2.05 0 2.83L4 21.41c.39.39.9.59 1.41.59.51 0 1.02-.2 1.41-.59l7.78-7.78 2.81-2.81c.8-.78.8-2.07 0-2.86zM5.41 20L4 18.59l7.72-7.72 1.47 1.35L5.41 20z\"/>\n",
              "  </svg>\n",
              "      </button>\n",
              "      \n",
              "  <style>\n",
              "    .colab-df-container {\n",
              "      display:flex;\n",
              "      flex-wrap:wrap;\n",
              "      gap: 12px;\n",
              "    }\n",
              "\n",
              "    .colab-df-convert {\n",
              "      background-color: #E8F0FE;\n",
              "      border: none;\n",
              "      border-radius: 50%;\n",
              "      cursor: pointer;\n",
              "      display: none;\n",
              "      fill: #1967D2;\n",
              "      height: 32px;\n",
              "      padding: 0 0 0 0;\n",
              "      width: 32px;\n",
              "    }\n",
              "\n",
              "    .colab-df-convert:hover {\n",
              "      background-color: #E2EBFA;\n",
              "      box-shadow: 0px 1px 2px rgba(60, 64, 67, 0.3), 0px 1px 3px 1px rgba(60, 64, 67, 0.15);\n",
              "      fill: #174EA6;\n",
              "    }\n",
              "\n",
              "    [theme=dark] .colab-df-convert {\n",
              "      background-color: #3B4455;\n",
              "      fill: #D2E3FC;\n",
              "    }\n",
              "\n",
              "    [theme=dark] .colab-df-convert:hover {\n",
              "      background-color: #434B5C;\n",
              "      box-shadow: 0px 1px 3px 1px rgba(0, 0, 0, 0.15);\n",
              "      filter: drop-shadow(0px 1px 2px rgba(0, 0, 0, 0.3));\n",
              "      fill: #FFFFFF;\n",
              "    }\n",
              "  </style>\n",
              "\n",
              "      <script>\n",
              "        const buttonEl =\n",
              "          document.querySelector('#df-27a5556f-0d85-4e56-a499-555c756d80ab button.colab-df-convert');\n",
              "        buttonEl.style.display =\n",
              "          google.colab.kernel.accessAllowed ? 'block' : 'none';\n",
              "\n",
              "        async function convertToInteractive(key) {\n",
              "          const element = document.querySelector('#df-27a5556f-0d85-4e56-a499-555c756d80ab');\n",
              "          const dataTable =\n",
              "            await google.colab.kernel.invokeFunction('convertToInteractive',\n",
              "                                                     [key], {});\n",
              "          if (!dataTable) return;\n",
              "\n",
              "          const docLinkHtml = 'Like what you see? Visit the ' +\n",
              "            '<a target=\"_blank\" href=https://colab.research.google.com/notebooks/data_table.ipynb>data table notebook</a>'\n",
              "            + ' to learn more about interactive tables.';\n",
              "          element.innerHTML = '';\n",
              "          dataTable['output_type'] = 'display_data';\n",
              "          await google.colab.output.renderOutput(dataTable, element);\n",
              "          const docLink = document.createElement('div');\n",
              "          docLink.innerHTML = docLinkHtml;\n",
              "          element.appendChild(docLink);\n",
              "        }\n",
              "      </script>\n",
              "    </div>\n",
              "  </div>\n",
              "  "
            ]
          },
          "metadata": {},
          "execution_count": 270
        }
      ]
    },
    {
      "cell_type": "code",
      "source": [
        "plt.figure(figsize = (10,6))\n",
        "ax = sns.heatmap(df, annot=True,fmt=\"g\", cmap='viridis',linewidths=.3)\n",
        "plt.title(\"Heatmap\")\n",
        "ax.set(xlabel=\"n_trees\", ylabel=\"max_depth\")\n",
        "ax.xaxis.tick_top()\n"
      ],
      "metadata": {
        "colab": {
          "base_uri": "https://localhost:8080/",
          "height": 424
        },
        "id": "Xhs48GMNKzDV",
        "outputId": "fbe29dbb-3a2f-4127-8bfe-dab85d6b2b6f"
      },
      "execution_count": 273,
      "outputs": [
        {
          "output_type": "display_data",
          "data": {
            "text/plain": [
              "<Figure size 720x432 with 2 Axes>"
            ],
            "image/png": "[encoded data removed]"
          },
          "metadata": {}
        }
      ]
    },
    {
      "cell_type": "code",
      "source": [],
      "metadata": {
        "id": "5UzD_MIvMlGX"
      },
      "execution_count": null,
      "outputs": []
    }
  ]
}